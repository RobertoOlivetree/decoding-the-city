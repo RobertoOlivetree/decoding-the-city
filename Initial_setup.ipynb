{
 "cells": [
  {
   "cell_type": "markdown",
   "id": "c7ea0598-3e41-47f6-9434-87c923fc6a55",
   "metadata": {},
   "source": [
    "<div style=\"border: 1px solid white; padding: 15px; background-color: #1e1e1e; border-radius: 5px; color: white; font-family: Arial, sans-serif;\">\n",
    "\n",
    "Hello! 👋 Welcome to the platform. This guide was created to help you get started — especially if this is your first time using <i>notebooks</i>. Don’t worry, it’s simpler than it looks!\n",
    "\n",
    "---\n",
    "\n",
    "## What can you do here?\n",
    "1. Run **code** (in Python).\n",
    "2. Work in an environment that combines code and explanations in a single place.\n",
    "3. Analyze large spatial datasets and apply data science techniques.\n",
    "\n",
    "---\n",
    "\n",
    "## How to get started?\n",
    "### 🔹 Run cells:\n",
    "- A <i>notebook</i> is composed of \"cells\".\n",
    "- There are two main types of cells:\n",
    "  - **Code cells**: for writing and running Python code.\n",
    "  - **Text cells** (Markdown): for annotations and descriptions.\n",
    "- To run a cell:\n",
    "  1. Click the ▶ button in the menu above to start the analysis.\n",
    "  2. Every time you click ▶, wait for the information before proceeding, as data loading and calculations may take some time.\n",
    "  3. Cells with a white background are **Markdown** — they do not return results.\n",
    "  4. <b>Do not skip steps. The process is sequential and should begin with the first cell in each <i>notebook</i>.</b>\n",
    "\n",
    "---\n",
    "\n",
    "If you need help, explore the **Help** menu.\n",
    "\n",
    "</div>\n"
   ]
  },
  {
   "cell_type": "markdown",
   "id": "9200bde0-06de-4fcc-a607-96d0c2c7efb1",
   "metadata": {},
   "source": [
    "Next: [Case Study: Data Exploration](case_study_prep.ipynb)"
   ]
  },
  {
   "cell_type": "code",
   "execution_count": null,
   "id": "1c78250c-b9d3-456a-9463-d24f3cca4b9c",
   "metadata": {},
   "outputs": [],
   "source": []
  }
 ],
 "metadata": {
  "kernelspec": {
   "display_name": "Python 3 (ipykernel)",
   "language": "python",
   "name": "python3"
  },
  "language_info": {
   "codemirror_mode": {
    "name": "ipython",
    "version": 3
   },
   "file_extension": ".py",
   "mimetype": "text/x-python",
   "name": "python",
   "nbconvert_exporter": "python",
   "pygments_lexer": "ipython3",
   "version": "3.12.2"
  }
 },
 "nbformat": 4,
 "nbformat_minor": 5
}
